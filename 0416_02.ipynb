{
 "cells": [
  {
   "cell_type": "code",
   "execution_count": 11,
   "metadata": {},
   "outputs": [],
   "source": [
    "#defining the libraries and the environment variables\n",
    "import os\n",
    "from dotenv import load_dotenv\n",
    "import openai\n",
    "import pandas as pd\n",
    "import numpy as np\n",
    "import re\n",
    "import random\n",
    "\n",
    "load_dotenv()\n",
    "\n",
    "API_KEY = os.environ.get(\"OPENAI_API_KEY\")\n",
    "openai.api_key = API_KEY\n",
    "\n",
    "pd.set_option('display.max_colwidth', None)"
   ]
  },
  {
   "cell_type": "code",
   "execution_count": 2,
   "metadata": {},
   "outputs": [],
   "source": [
    "#define role\n",
    "attribute_list = [\"College student\", \"Graduate student\", \"College teacher\"]\n",
    "sex_list = [\"male\", \"female\"]\n",
    "fisique_list = [\"fat\", \"normal\", \"skinny\"]\n"
   ]
  },
  {
   "cell_type": "code",
   "execution_count": 3,
   "metadata": {},
   "outputs": [],
   "source": [
    "prompt=\"During a lunch break, find yourself in the college cafeteria. There, you'll see four distinct vegetable options to choose from. Your task is to select one, referring to it only by its number.\\n\\\n",
    "When responding, please consider each option independently to ensure your selection is based solely on your preference.\""
   ]
  },
  {
   "cell_type": "code",
   "execution_count": 4,
   "metadata": {},
   "outputs": [],
   "source": [
    "\n",
    "choice_1 = \"(1): Dynamite chili and tangy lime-seasoned beets\\n\\\n",
    "            (2): Beets\\n\\\n",
    "            (3): Lighter-choice beets with no added sugar\\n\\\n",
    "            (4): High-antioxidant beets\"\n",
    "\n",
    "choice_2 = \"(1): Beets\\n\\\n",
    "            (2): Dynamite chili and tangy lime-seasoned beets\\n\\\n",
    "            (3): Lighter-choice beets with no added sugar\\n\\\n",
    "            (4): High-antioxidant beets\"\n",
    "\n",
    "\n",
    "choice_3 = \"(1): High-antioxidant beets\\n\\\n",
    "            (2): Beets\\n\\\n",
    "            (3): Lighter-choice beets with no added sugar\\n\\\n",
    "            (4): Dynamite chili and tangy lime-seasoned beets\""
   ]
  },
  {
   "cell_type": "code",
   "execution_count": 7,
   "metadata": {},
   "outputs": [],
   "source": [
    "def generate_completion(role, choice, prompt):\n",
    "    response = openai.ChatCompletion.create(\n",
    "        model=\"gpt-4-turbo-2024-04-09\",\n",
    "        #model=\"gpt-3.5-turbo-1106\",\n",
    "        messages=[\n",
    "            {\"role\": \"system\", \"content\": role},\n",
    "            {\"role\": \"user\", \"content\": f\"{prompt},{choice}\"}\n",
    "        ],\n",
    "        temperature=0.7,\n",
    "        max_tokens=100,\n",
    "        )\n",
    "    return response"
   ]
  },
  {
   "cell_type": "code",
   "execution_count": 9,
   "metadata": {},
   "outputs": [],
   "source": [
    "def ask_vegetable_preference(choice,prompt,range_number):\n",
    "    df = pd.DataFrame(columns=[\"attribute\",\"response\",\"number\"])\n",
    "    \n",
    "    for i in range(range_number):\n",
    "        #attribute = \"college student\"\n",
    "        attribute = random.choice(attribute_list)\n",
    "        sex = random.choice(sex_list)\n",
    "        fisique = random.choice(fisique_list)\n",
    "\n",
    "        role = f\"you are {attribute}.\"\n",
    "        #you have to behave like {attribute}.\"\n",
    "\n",
    "        response = generate_completion(role, choice, prompt)\n",
    "        content = response.choices[0].message.content\n",
    "\n",
    "        #extract number from responce\n",
    "        numbers = re.findall(r'\\d+', content)\n",
    "        vegetable_number = int(numbers[0]) if numbers else None\n",
    "        df_sample = pd.DataFrame({\"attribute\":attribute,\"response\":content,\"number\":vegetable_number},index=[0])\n",
    "\n",
    "        df = pd.concat([df,df_sample],ignore_index=True)\n",
    "    return df"
   ]
  },
  {
   "cell_type": "code",
   "execution_count": 12,
   "metadata": {},
   "outputs": [],
   "source": [
    "df_1 = ask_vegetable_preference(choice_1,prompt,50)\n",
    "df_2 = ask_vegetable_preference(choice_2,prompt,50)"
   ]
  },
  {
   "cell_type": "code",
   "execution_count": null,
   "metadata": {},
   "outputs": [],
   "source": [
    "import pandas as pd\n",
    "import matplotlib.pyplot as plt\n",
    "\n",
    "# Define dictionaries to map numeric values to descriptive labels\n",
    "choice_1_dic = {\n",
    "    1: \"Dynamite chili and \\n tangy lime-seasoned beets\",\n",
    "    2: \"Beets\",\n",
    "    3: \"Lighter-choice beets \\n with no added sugar\",\n",
    "    4: \"High-antioxidant beets\"\n",
    "}\n",
    "\n",
    "choice_2_dic = {\n",
    "    1:\"Beets\",\n",
    "    2:\"Dynamite chili and \\n tangy lime-seasoned beets\",\n",
    "    3:\"Lighter-choice beets \\n with no added sugar\",\n",
    "    4:\"High-antioxidant beets\"\n",
    "}\n",
    "\n",
    "\n",
    "choice_3_dic = {\n",
    "    1:\"Higher-antioxidant beets\",\n",
    "    2:\"Beets\",\n",
    "    3:\"Lighter-choice beets \\n with no added sugar\",\n",
    "    4:\"Dynamite chili and \\n tangy lime-seasoned beets\"\n",
    "}\n",
    "\n",
    "column = \"number\"\n",
    "\n",
    "# Define a function to plot frequency of numbers associated with descriptive labels\n",
    "def plot_frequency(df,column,choice_dic, ax):\n",
    "    frequency = df[column].value_counts().sort_index()\n",
    "    frequency.index = frequency.index.map(lambda x: choice_dic[x])\n",
    "    desired_order = list(choice_1_dic.values())\n",
    "    frequency = frequency.reindex(desired_order)\n",
    "    frequency.plot(kind='bar', ax=ax)\n",
    "    ax.set_xlabel('label')\n",
    "    ax.set_ylabel('Frequency')\n",
    "    ax.set_title(f'Frequency of {column}')\n",
    "    ax.tick_params(axis='x', rotation=0)\n",
    "\n",
    "# Create DataFrame 1 (df_1) and DataFrame 2 (df_2) before calling this function\n",
    "\n",
    "# Plot frequency for DataFrame 1\n",
    "plt.figure(figsize=(15, 6))\n",
    "ax1 = plt.subplot(1, 3, 1)\n",
    "plot_frequency(df_1, column,choice_1_dic, ax1)\n",
    "\n",
    "# Plot frequency for DataFrame 2\n",
    "ax2 = plt.subplot(1, 3, 2)\n",
    "plot_frequency(df_2, column,choice_2_dic, ax2)\n",
    "\n",
    "#ax3 = plt.subplot(1, 3, 3)\n",
    "#plot_frequency(df_3, column,choice_3_dic, ax3)\n",
    "\n",
    "plt.tight_layout()\n",
    "plt.show()\n"
   ]
  }
 ],
 "metadata": {
  "kernelspec": {
   "display_name": "Python 3",
   "language": "python",
   "name": "python3"
  },
  "language_info": {
   "codemirror_mode": {
    "name": "ipython",
    "version": 3
   },
   "file_extension": ".py",
   "mimetype": "text/x-python",
   "name": "python",
   "nbconvert_exporter": "python",
   "pygments_lexer": "ipython3",
   "version": "3.11.2"
  }
 },
 "nbformat": 4,
 "nbformat_minor": 2
}
