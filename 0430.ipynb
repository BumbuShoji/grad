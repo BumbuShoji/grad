{
 "cells": [
  {
   "cell_type": "code",
   "execution_count": null,
   "metadata": {},
   "outputs": [],
   "source": [
    "#import api key from env\n",
    "import os\n",
    "from dotenv import load_dotenv\n",
    "load_dotenv()\n",
    "\n",
    "API_KEY = os.environ.get(\"OPENAI_API_KEY\")\n",
    "print(API_KEY)"
   ]
  },
  {
   "cell_type": "code",
   "execution_count": null,
   "metadata": {},
   "outputs": [],
   "source": [
    "#define role\n",
    "attribute_list = [\"College student\", \"Graduate student\", \"Teacher\"]\n",
    "sex_list = [\"male\", \"female\"]\n",
    "fisique_list = [\"fat\", \"normal\", \"skinny\"]"
   ]
  },
  {
   "cell_type": "code",
   "execution_count": null,
   "metadata": {},
   "outputs": [],
   "source": [
    "#select 1 from 4\n",
    "prompt = \"There is 4 types of vegetables in a cafeteria. Pick one of them.\"\n",
    "\n",
    "choice_1 = \"(1): Dynamite chili and tangy lime-seasoned beets\\n\\\n",
    "            (2): Beets\\n\\\n",
    "            (3): Lighter-choice beets with no added sugar\\n\\\n",
    "            (4): High-antioxidant beets\""
   ]
  },
  {
   "cell_type": "code",
   "execution_count": null,
   "metadata": {},
   "outputs": [],
   "source": [
    "#generate completion\n",
    "\n",
    "import openai\n",
    "openai.api_key = API_KEY\n",
    "def generate_completion(role, choice, prompt):\n",
    "    response = openai.ChatCompletion.create(\n",
    "        model=\"gpt-4\",\n",
    "        messages=[\n",
    "            {\"role\": \"system\", \"content\": role},\n",
    "            {\"role\": \"user\", \"content\": f\"{prompt},{choice}\"}\n",
    "        ],\n",
    "        temperature=0.7,\n",
    "        max_tokens=100,\n",
    "        )\n",
    "    return response"
   ]
  },
  {
   "cell_type": "code",
   "execution_count": null,
   "metadata": {},
   "outputs": [],
   "source": [
    "import pandas as pd\n",
    "import random\n",
    "import re\n",
    "\n",
    "df_1 = pd.DataFrame()\n",
    "\n",
    "for i in range(50):\n",
    "    attribute = random.choice(attribute_list)\n",
    "    #sex = random.choice(sex_list)\n",
    "    #fisique = random.choice(fisique_list)\n",
    "\n",
    "    role = f\"you are {attribute} .\"\n",
    "\n",
    "\n",
    "    response = generate_completion(role, choice_1, prompt)\n",
    "    content = response.choices[0].message.content\n",
    "\n",
    "    #extract number from responce\n",
    "    numbers = re.findall(r'\\d+', content)\n",
    "    vegetable_number = int(numbers[0]) if numbers else None\n",
    "    df_sample = pd.DataFrame({\"attribute\":attribute,\"response\":content,\"number\":vegetable_number},index=[0])\n",
    "\n",
    "    df_1 = pd.concat([df_1,df_sample],ignore_index=True)\n",
    "\n",
    "df_1.head(50)"
   ]
  }
 ],
 "metadata": {
  "language_info": {
   "name": "python"
  }
 },
 "nbformat": 4,
 "nbformat_minor": 2
}
